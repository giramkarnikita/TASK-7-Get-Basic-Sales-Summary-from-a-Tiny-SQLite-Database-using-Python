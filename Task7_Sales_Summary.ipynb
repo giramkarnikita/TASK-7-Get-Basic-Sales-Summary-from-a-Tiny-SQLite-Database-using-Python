{
 "cells": [
  {
   "cell_type": "code",
   "execution_count": 1,
   "id": "4c7c02d9-e350-4339-ab02-e22a26c0dfda",
   "metadata": {},
   "outputs": [],
   "source": [
    "import sqlite3\n",
    "import pandas as pd\n",
    "import matplotlib.pyplot as plt\n"
   ]
  },
  {
   "cell_type": "code",
   "execution_count": 4,
   "id": "bb580a0c-9039-44b3-a636-9f3cfbbfb047",
   "metadata": {},
   "outputs": [],
   "source": [
    "conn = sqlite3.connect(\"Downloads/sales_data.db\")  # Make sure file is in same folder\n"
   ]
  },
  {
   "cell_type": "code",
   "execution_count": 5,
   "id": "7d0a0d85-6671-4bfe-ad17-f5698069b17f",
   "metadata": {},
   "outputs": [],
   "source": [
    "query = \"\"\"\n",
    "SELECT product,\n",
    "       SUM(quantity) AS total_qty,\n",
    "       SUM(quantity * price) AS revenue\n",
    "FROM sales\n",
    "GROUP BY product\n",
    "\"\"\"\n",
    "\n",
    "df = pd.read_sql_query(query, conn)\n",
    "conn.close()\n"
   ]
  },
  {
   "cell_type": "code",
   "execution_count": 6,
   "id": "194a3a2e-d32f-4753-8c95-3c2d9efc49f5",
   "metadata": {},
   "outputs": [
    {
     "name": "stdout",
     "output_type": "stream",
     "text": [
      "📊 Sales Summary Table:\n",
      "     product  total_qty  revenue\n",
      "0  Product A         23    345.0\n",
      "1  Product B         13    260.0\n",
      "2  Product C          7    210.0\n"
     ]
    }
   ],
   "source": [
    "print(\"📊 Sales Summary Table:\")\n",
    "print(df)\n"
   ]
  },
  {
   "cell_type": "code",
   "execution_count": 7,
   "id": "5636db0e-0622-4f49-924f-ae09d2a69db7",
   "metadata": {},
   "outputs": [
    {
     "data": {
      "text/plain": [
       "<Figure size 800x500 with 0 Axes>"
      ]
     },
     "metadata": {},
     "output_type": "display_data"
    },
    {
     "data": {
      "image/png": "[encoded data removed]",
      "text/plain": [
       "<Figure size 640x480 with 1 Axes>"
      ]
     },
     "metadata": {},
     "output_type": "display_data"
    }
   ],
   "source": [
    "plt.figure(figsize=(8, 5))\n",
    "df.plot(kind='bar', x='product', y='revenue', color='skyblue', legend=False)\n",
    "plt.title(\"Revenue by Product\")\n",
    "plt.xlabel(\"Product\")\n",
    "plt.ylabel(\"Revenue\")\n",
    "plt.tight_layout()\n",
    "plt.savefig(\"sales_chart.png\")  # Optional: Save image\n",
    "plt.show()\n"
   ]
  },
  {
   "cell_type": "code",
   "execution_count": null,
   "id": "35447480-7cab-4ead-bc5f-3a3e07f4e4c2",
   "metadata": {},
   "outputs": [],
   "source": [
    "\n",
    "# 🧾 Task 7: Sales Summary using SQLite & Python\n",
    "\n",
    "## 📋 Objective:\n",
    "To connect a SQLite database to Python, extract basic sales data like total quantity and revenue, and visualize it using a bar chart.\n",
    "\n",
    "## 📂 Dataset:\n",
    "The database file `sales_data.db` contains a `sales` table with:\n",
    "- `product` (name of product)\n",
    "- `quantity` (number of units sold)\n",
    "- `price` (unit price)\n",
    "\n",
    "## ⚙️ Tools Used:\n",
    "- Python 3.x\n",
    "- SQLite (`sqlite3`)\n",
    "- Pandas\n",
    "- Matplotlib\n",
    "\n",
    "## 🧪 Output:\n",
    "- Console output of sales summary\n",
    "- Bar chart of revenue by product (`sales_chart.png`)\n",
    "\n",
    "---\n",
    "\n",
    "✅ This task helps understand how SQL and Python can be combined for basic data analysis and visualization.\n"
   ]
  }
 ],
 "metadata": {
  "kernelspec": {
   "display_name": "Python 3 (ipykernel)",
   "language": "python",
   "name": "python3"
  },
  "language_info": {
   "codemirror_mode": {
    "name": "ipython",
    "version": 3
   },
   "file_extension": ".py",
   "mimetype": "text/x-python",
   "name": "python",
   "nbconvert_exporter": "python",
   "pygments_lexer": "ipython3",
   "version": "3.11.5"
  }
 },
 "nbformat": 4,
 "nbformat_minor": 5
}
